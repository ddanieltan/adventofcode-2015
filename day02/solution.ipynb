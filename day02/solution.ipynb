{
 "cells": [
  {
   "cell_type": "markdown",
   "metadata": {},
   "source": [
    "--- Day 2: I Was Told There Would Be No Math ---\n",
    "\n",
    "The elves are running low on wrapping paper, \n",
    "\n",
    "and so they need to submit an order for more. \n",
    "\n",
    "They have a list of the dimensions (length l, width w, and height h) \n",
    "\n",
    "of each present, and only want to order exactly as much as they need.\n",
    "\n",
    "\n",
    "Fortunately, every present is a box (a perfect right rectangular prism), \n",
    "\n",
    "which makes calculating the required wrapping paper for each gift a little easier: \n",
    "\n",
    "find the surface area of the box, which is 2*l*w + 2*w*h + 2*h*l. \n",
    "\n",
    "The elves also need a little extra paper for each present: the area of the smallest side.\n",
    "\n",
    "For example:\n",
    "\n",
    "A present with dimensions 2x3x4 requires 2*6 + 2*12 + 2*8 = 52 square feet of wrapping paper\n",
    "\n",
    "plus 6 square feet of slack, for a total of 58 square feet.\n",
    "\n",
    "A present with dimensions 1x1x10 requires 2*1 + 2*10 + 2*10 = 42 square feet of wrapping paper\n",
    "\n",
    "plus 1 square foot of slack, for a total of 43 square feet.\n",
    "\n",
    "All numbers in the elves' list are in feet. How many total square feet of wrapping paper \n",
    "\n",
    "should they order?\n",
    "\n"
   ]
  },
  {
   "cell_type": "code",
   "execution_count": null,
   "metadata": {},
   "outputs": [],
   "source": [
    "def solve(example):\n",
    "    return area"
   ]
  },
  {
   "cell_type": "code",
   "execution_count": null,
   "metadata": {},
   "outputs": [],
   "source": [
    "solve(\"2x3x4\") # ans should be 58"
   ]
  },
  {
   "cell_type": "code",
   "execution_count": null,
   "metadata": {},
   "outputs": [],
   "source": [
    "solve(\"1x1x10\") # ans should be 43"
   ]
  }
 ],
 "metadata": {
  "kernelspec": {
   "display_name": "Python 2",
   "language": "python",
   "name": "python2"
  },
  "language_info": {
   "codemirror_mode": {
    "name": "ipython",
    "version": 2
   },
   "file_extension": ".py",
   "mimetype": "text/x-python",
   "name": "python",
   "nbconvert_exporter": "python",
   "pygments_lexer": "ipython2",
   "version": "2.7.14"
  }
 },
 "nbformat": 4,
 "nbformat_minor": 2
}
