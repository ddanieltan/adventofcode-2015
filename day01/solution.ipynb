{
 "cells": [
  {
   "cell_type": "markdown",
   "metadata": {},
   "source": [
    "Santa is trying to deliver presents in a large apartment building, \n",
    "\n",
    "but he can't find the right floor - the directions he got are a little confusing. \n",
    "\n",
    "He starts on the ground floor (floor 0) and then follows the instructions \n",
    "\n",
    "one character at a time.\n",
    "\n",
    "An opening parenthesis, (, means he should go up one floor, and a closing parenthesis, ), means he should go down one floor.\n",
    "\n",
    "The apartment building is very tall, and the basement is very deep; he will never find the top or bottom floors.\n",
    "\n",
    "For example:\n",
    "\n",
    "(()) and ()() both result in floor 0.\n",
    "\n",
    "((( and (()(()( both result in floor 3.\n",
    "\n",
    "))((((( also results in floor 3.\n",
    "\n",
    "()) and ))( both result in floor -1 (the first basement level).\n",
    "\n",
    "))) and )())()) both result in floor -3.\n"
   ]
  },
  {
   "cell_type": "code",
   "execution_count": 1,
   "metadata": {},
   "outputs": [],
   "source": [
    "def solve(example):\n",
    "    count = 0\n",
    "    for i in example:\n",
    "        if i == '(':\n",
    "            count +=1\n",
    "            # count = count + 1\n",
    "        elif i == ')':\n",
    "            count -= 1\n",
    "            # count = count - 1\n",
    "    return count"
   ]
  },
  {
   "cell_type": "code",
   "execution_count": 2,
   "metadata": {},
   "outputs": [
    {
     "data": {
      "text/plain": [
       "0"
      ]
     },
     "execution_count": 2,
     "metadata": {},
     "output_type": "execute_result"
    }
   ],
   "source": [
    "#Ans should be 0\n",
    "solve(\"(())\")"
   ]
  },
  {
   "cell_type": "code",
   "execution_count": 3,
   "metadata": {},
   "outputs": [
    {
     "data": {
      "text/plain": [
       "3"
      ]
     },
     "execution_count": 3,
     "metadata": {},
     "output_type": "execute_result"
    }
   ],
   "source": [
    "#Ans should be 3\n",
    "solve(\"(((\")"
   ]
  },
  {
   "cell_type": "code",
   "execution_count": 8,
   "metadata": {},
   "outputs": [],
   "source": [
    "with open('input.txt') as f:\n",
    "    TEST_INPUT=f.readlines()[0]"
   ]
  },
  {
   "cell_type": "code",
   "execution_count": 10,
   "metadata": {},
   "outputs": [
    {
     "data": {
      "text/plain": [
       "'()((('"
      ]
     },
     "execution_count": 10,
     "metadata": {},
     "output_type": "execute_result"
    }
   ],
   "source": [
    "TEST_INPUT[:5]"
   ]
  },
  {
   "cell_type": "code",
   "execution_count": 11,
   "metadata": {},
   "outputs": [
    {
     "data": {
      "text/plain": [
       "138"
      ]
     },
     "execution_count": 11,
     "metadata": {},
     "output_type": "execute_result"
    }
   ],
   "source": [
    "solve(TEST_INPUT)"
   ]
  },
  {
   "cell_type": "markdown",
   "metadata": {},
   "source": [
    "--- Part Two ---\n",
    "\n",
    "Now, given the same instructions, \n",
    "\n",
    "find the position of the first character that causes him to enter the basement (floor -1). \n",
    "\n",
    "The first character in the instructions has position 1, the second character has position 2, and so on.\n",
    "\n",
    "\n",
    "For example:\n",
    "\n",
    "\n",
    ") causes him to enter the basement at character position 1.\n",
    "\n",
    "()()) causes him to enter the basement at character position 5.\n",
    "\n",
    "What is the position of the character that causes Santa to first enter the basement?"
   ]
  },
  {
   "cell_type": "code",
   "execution_count": 12,
   "metadata": {},
   "outputs": [],
   "source": [
    "def solve2(example):\n",
    "    count = 0\n",
    "    for index, i in enumerate (example):\n",
    "        if i == '(':\n",
    "            count +=1\n",
    "            # count = count + 1\n",
    "        elif i == ')':\n",
    "            count -= 1\n",
    "            # count = count - 1\n",
    "        if count == -1 :\n",
    "            return index+1"
   ]
  },
  {
   "cell_type": "code",
   "execution_count": 14,
   "metadata": {},
   "outputs": [
    {
     "data": {
      "text/plain": [
       "1"
      ]
     },
     "execution_count": 14,
     "metadata": {},
     "output_type": "execute_result"
    }
   ],
   "source": [
    "#Ans should be 1\n",
    "solve2(\"))\") "
   ]
  },
  {
   "cell_type": "code",
   "execution_count": 16,
   "metadata": {},
   "outputs": [
    {
     "data": {
      "text/plain": [
       "5"
      ]
     },
     "execution_count": 16,
     "metadata": {},
     "output_type": "execute_result"
    }
   ],
   "source": [
    "# Ans should be 5 \n",
    "solve2(\"()())\")"
   ]
  },
  {
   "cell_type": "code",
   "execution_count": 17,
   "metadata": {},
   "outputs": [
    {
     "data": {
      "text/plain": [
       "1771"
      ]
     },
     "execution_count": 17,
     "metadata": {},
     "output_type": "execute_result"
    }
   ],
   "source": [
    "solve2(TEST_INPUT)"
   ]
  }
 ],
 "metadata": {
  "kernelspec": {
   "display_name": "Python 3",
   "language": "python",
   "name": "python3"
  },
  "language_info": {
   "codemirror_mode": {
    "name": "ipython",
    "version": 3
   },
   "file_extension": ".py",
   "mimetype": "text/x-python",
   "name": "python",
   "nbconvert_exporter": "python",
   "pygments_lexer": "ipython3",
   "version": "3.6.4"
  }
 },
 "nbformat": 4,
 "nbformat_minor": 2
}
